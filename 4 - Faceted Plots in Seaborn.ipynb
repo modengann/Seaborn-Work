{
 "cells": [
  {
   "cell_type": "markdown",
   "id": "6973ed4b",
   "metadata": {},
   "source": [
    "# Faceted Plots in Seaborn"
   ]
  },
  {
   "cell_type": "markdown",
   "id": "22c8a0c9",
   "metadata": {},
   "source": [
    "Faceted plots, also known as trellis plots or lattice plots, allow exploration of data across multiple subplots broken down by the levels of one or more categorical variables. Seaborn's **'FacetGrid'** is a highly useful tool for creating a grid of subplots based on the values of certain variables."
   ]
  },
  {
   "cell_type": "markdown",
   "id": "164194f5",
   "metadata": {},
   "source": [
    "## Understanding FacetGrid"
   ]
  },
  {
   "cell_type": "markdown",
   "id": "339913e7",
   "metadata": {},
   "source": [
    "**'FacetGrid'** is a class that helps in visualizing the distribution of a variable or the relationship between multiple variables separately within subsets of your dataset. It can also map any plotting function to each of the facets."
   ]
  },
  {
   "cell_type": "markdown",
   "id": "342f5092",
   "metadata": {},
   "source": [
    "## Creating a Simple Faceted Plot"
   ]
  },
  {
   "cell_type": "markdown",
   "id": "374df613",
   "metadata": {},
   "source": [
    "Let's start with a simple example. Suppose you have a dataset of a store's sales, which includes the sales amount, the day of the week, and the type of item sold."
   ]
  },
  {
   "cell_type": "code",
   "execution_count": null,
   "id": "21f437f4",
   "metadata": {},
   "outputs": [],
   "source": [
    "import seaborn as sns\n",
    "import matplotlib.pyplot as plt\n",
    "\n",
    "# Assuming 'df' is a pandas DataFrame with 'day_of_week', 'item_type', and 'sales' columns.\n",
    "\n",
    "# Create a FacetGrid object with 'day_of_week' as the row and 'item_type' as the column\n",
    "g = sns.FacetGrid(df, row='day_of_week', col='item_type', margin_titles=True)\n",
    "\n",
    "# Map a histogram to each subset\n",
    "g.map(plt.hist, 'sales')\n",
    "\n",
    "# Add a title and adjust the layout\n",
    "g.fig.suptitle('Sales Distribution by Day and Item Type', y=1.03)\n",
    "g.add_legend()\n",
    "plt.show()"
   ]
  },
  {
   "cell_type": "markdown",
   "id": "e1cc5ce1",
   "metadata": {},
   "source": [
    "In this example, the grid consists of multiple subplots (facets), where each row represents a different day of the week and each column represents a different item type. A histogram of sales is plotted for each facet."
   ]
  },
  {
   "cell_type": "markdown",
   "id": "3c432397",
   "metadata": {},
   "source": [
    "## Customizing FacetGrid Plots"
   ]
  },
  {
   "cell_type": "markdown",
   "id": "ccd7517a",
   "metadata": {},
   "source": [
    "Seaborn allows customization of these plots. For example, you might want to adjust the size of the plots, add different kinds of plots, or control the titles of subplots."
   ]
  },
  {
   "cell_type": "code",
   "execution_count": null,
   "id": "84539929",
   "metadata": {},
   "outputs": [],
   "source": [
    "# Customizing the FacetGrid object\n",
    "g = sns.FacetGrid(df, col='day_of_week', height=4, aspect=0.5)\n",
    "g.map(sns.barplot, 'item_type', 'sales', order=['item1', 'item2', 'item3'])\n",
    "\n",
    "# Set the axis labels\n",
    "g.set_axis_labels('Item Type', 'Average Sales')\n",
    "\n",
    "# Set titles for each row and column\n",
    "g.set_titles(col_template=\"{col_name} Day\")\n",
    "\n",
    "# Refine further with a custom function\n",
    "def customize(x, y, **kwargs):\n",
    "    plt.xticks(rotation=45)\n",
    "\n",
    "g.map_dataframe(customize)\n",
    "\n",
    "plt.show()"
   ]
  },
  {
   "cell_type": "markdown",
   "id": "613bd486",
   "metadata": {},
   "source": [
    "In this customized plot, each subplot is a bar plot representing average sales by item type for each day of the week. The **'order'** parameter in **'sns.barplot'** ensures that the bars are consistent across facets."
   ]
  },
  {
   "cell_type": "markdown",
   "id": "faa8ad1d",
   "metadata": {},
   "source": [
    "## Multiple Variables and Col_wrap"
   ]
  },
  {
   "cell_type": "markdown",
   "id": "7f32bdf3",
   "metadata": {},
   "source": [
    "Sometimes, you have more categories than can comfortably fit in a row or column. The **'col_wrap'** parameter can be used to wrap the column variable, so that the grid becomes a set of rows instead of a rectangular grid."
   ]
  },
  {
   "cell_type": "code",
   "execution_count": null,
   "id": "c966b98e",
   "metadata": {},
   "outputs": [],
   "source": [
    "# Using col_wrap to create a wrapped grid\n",
    "g = sns.FacetGrid(df, col='item_type', col_wrap=4, height=3)\n",
    "g.map(plt.hist, 'sales')\n",
    "\n",
    "# Adding titles and labels\n",
    "g.set_titles(\"{col_name} Items\")\n",
    "g.set_axis_labels(\"Sales\", \"Frequency\")\n",
    "\n",
    "plt.show()"
   ]
  },
  {
   "cell_type": "markdown",
   "id": "b13541a9",
   "metadata": {},
   "source": [
    "This creates a set of histograms for each item type, wrapping at four columns to prevent overcrowding."
   ]
  },
  {
   "cell_type": "markdown",
   "id": "46e61ea9",
   "metadata": {},
   "source": [
    "## Conclusion"
   ]
  },
  {
   "cell_type": "markdown",
   "id": "4ee84d05",
   "metadata": {},
   "source": [
    "FacetGrids in Seaborn are a powerful way to explore complex datasets by creating multiple plots in a structured layout. They help in spotting trends and patterns that may be missed when looking at the collective data. The flexibility of the **'FacetGrid'** class allows for extensive customization, making it suitable for a wide range of data exploration tasks."
   ]
  }
 ],
 "metadata": {
  "kernelspec": {
   "display_name": "Python 3 (ipykernel)",
   "language": "python",
   "name": "python3"
  },
  "language_info": {
   "codemirror_mode": {
    "name": "ipython",
    "version": 3
   },
   "file_extension": ".py",
   "mimetype": "text/x-python",
   "name": "python",
   "nbconvert_exporter": "python",
   "pygments_lexer": "ipython3",
   "version": "3.9.13"
  }
 },
 "nbformat": 4,
 "nbformat_minor": 5
}
