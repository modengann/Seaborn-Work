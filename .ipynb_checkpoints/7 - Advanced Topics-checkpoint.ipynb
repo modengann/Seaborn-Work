{
 "cells": [
  {
   "cell_type": "markdown",
   "id": "687f58f9",
   "metadata": {},
   "source": [
    "# Regression Plots in Seaborn"
   ]
  },
  {
   "cell_type": "markdown",
   "id": "bdf48ce0",
   "metadata": {},
   "source": [
    "Regression plots in Seaborn are used for visualizing the relationship between two variables, often with the intent of understanding how the value of one variable changes in response to another. Seaborn provides **'regplot'** and **'lmplot'**, two powerful functions that can plot regression models directly within your visualization."
   ]
  },
  {
   "cell_type": "markdown",
   "id": "5c2e91fa",
   "metadata": {},
   "source": [
    "## Understanding Regression Plots"
   ]
  },
  {
   "cell_type": "markdown",
   "id": "cb659d33",
   "metadata": {},
   "source": [
    "Seaborn's regression plots perform a linear regression in the background and then plot the data points and a regression line. This helps in understanding how well the variables are correlated and in making predictions about the data."
   ]
  },
  {
   "cell_type": "markdown",
   "id": "7602eb7c",
   "metadata": {},
   "source": [
    "## Creating a Simple Regression Plot"
   ]
  },
  {
   "cell_type": "markdown",
   "id": "6346fd0b",
   "metadata": {},
   "source": [
    "Assuming we have a dataset **'df'** with two quantitative variables **'x'** and **'y'** that we suspect have a linear relationship:"
   ]
  },
  {
   "cell_type": "code",
   "execution_count": null,
   "id": "1e5ec262",
   "metadata": {},
   "outputs": [],
   "source": [
    "import seaborn as sns\n",
    "import matplotlib.pyplot as plt\n",
    "\n",
    "# Assuming 'df' is a pandas DataFrame with 'x' and 'y' columns.\n",
    "\n",
    "# Creating a regression plot\n",
    "sns.regplot(x='x', y='y', data=df)\n",
    "plt.title('Linear Regression Plot of x vs. y')\n",
    "plt.show()"
   ]
  },
  {
   "cell_type": "markdown",
   "id": "ff6b3ca4",
   "metadata": {},
   "source": [
    "This **'regplot'** will show a scatter plot of **'x'** versus **'y'**, along with a line of best fit through the data points, and a shaded area representing the confidence interval for the regression estimate."
   ]
  },
  {
   "cell_type": "markdown",
   "id": "658268d1",
   "metadata": {},
   "source": [
    "## 'regplot' vs. 'lmplot'"
   ]
  },
  {
   "cell_type": "markdown",
   "id": "21a792ee",
   "metadata": {},
   "source": [
    "While **'regplot'** creates a simple regression model, **'lmplot'** combines **'regplot'** with **'FacetGrid'** to provide an easy way to draw a linear regression on \"faceted\" plots that allow exploring interactions with up to three additional categorical variables."
   ]
  },
  {
   "cell_type": "code",
   "execution_count": null,
   "id": "c1cade6a",
   "metadata": {},
   "outputs": [],
   "source": [
    "# Creating an lmplot that shows the linear relationship grouped by a categorical variable\n",
    "sns.lmplot(x='x', y='y', data=df, hue='group', markers=['o', 'x', '+'])\n",
    "plt.show()"
   ]
  },
  {
   "cell_type": "markdown",
   "id": "e9f1772c",
   "metadata": {},
   "source": [
    "In this example, the **'hue'** parameter adds color coding by a categorical variable **'group'**. Different markers are used for each group."
   ]
  },
  {
   "cell_type": "markdown",
   "id": "c9a7bcd0",
   "metadata": {},
   "source": [
    "## Customizing Regression Plots"
   ]
  },
  {
   "cell_type": "markdown",
   "id": "b6900b16",
   "metadata": {},
   "source": [
    "Seaborn allows you to customize regression plots extensively. You can modify aspects like the order of the regression polynomial, the transparency of the confidence interval, or the robustness to outliers."
   ]
  },
  {
   "cell_type": "code",
   "execution_count": null,
   "id": "2014c159",
   "metadata": {},
   "outputs": [],
   "source": [
    "# Customized regression plot with a higher-order polynomial fit and without a confidence interval\n",
    "sns.regplot(x='x', y='y', data=df, order=2, ci=None)\n",
    "plt.title('Polynomial Regression Plot of x vs. y')\n",
    "plt.show()\n",
    "\n",
    "# Regression plot with robustness to outliers\n",
    "sns.regplot(x='x', y='y', data=df, robust=True)\n",
    "plt.title('Robust Linear Regression Plot of x vs. y')\n",
    "plt.show()"
   ]
  },
  {
   "cell_type": "markdown",
   "id": "4cdf2c9d",
   "metadata": {},
   "source": [
    "In the first example, a second-order polynomial is fitted, and **'ci=None'** removes the confidence interval. In the second example, **'robust=True'** makes the regression estimation more robust to outliers."
   ]
  },
  {
   "cell_type": "markdown",
   "id": "7d23d9c6",
   "metadata": {},
   "source": [
    "## Conclusion"
   ]
  },
  {
   "cell_type": "markdown",
   "id": "fa450337",
   "metadata": {},
   "source": [
    "Regression plots are an essential part of the exploratory data analysis in statistics. They help in identifying the relationship between variables, understanding data distribution, and spotting outliers. With Seaborn, creating these plots is straightforward, yet they offer a deep insight into the linear relationships within the data."
   ]
  }
 ],
 "metadata": {
  "kernelspec": {
   "display_name": "Python 3 (ipykernel)",
   "language": "python",
   "name": "python3"
  },
  "language_info": {
   "codemirror_mode": {
    "name": "ipython",
    "version": 3
   },
   "file_extension": ".py",
   "mimetype": "text/x-python",
   "name": "python",
   "nbconvert_exporter": "python",
   "pygments_lexer": "ipython3",
   "version": "3.9.13"
  }
 },
 "nbformat": 4,
 "nbformat_minor": 5
}
