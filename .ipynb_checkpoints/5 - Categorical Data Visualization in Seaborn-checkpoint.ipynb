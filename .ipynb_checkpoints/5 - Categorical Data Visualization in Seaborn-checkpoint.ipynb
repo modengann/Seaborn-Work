{
 "cells": [
  {
   "cell_type": "markdown",
   "id": "8e00739e",
   "metadata": {},
   "source": [
    "# Categorical Data Visualization in Seaborn"
   ]
  },
  {
   "cell_type": "markdown",
   "id": "c2c8b2ea",
   "metadata": {},
   "source": [
    "Categorical data visualization is pivotal in data analysis, as it helps in understanding the distribution and relationship of discrete variables within a dataset. Seaborn provides a suite of tools designed for the representation of categorical data. Here we explore some of these functionalities."
   ]
  },
  {
   "cell_type": "markdown",
   "id": "ec23acbf",
   "metadata": {},
   "source": [
    "## Understanding Categorical Plots in Seaborn"
   ]
  },
  {
   "cell_type": "markdown",
   "id": "df5e6e14",
   "metadata": {},
   "source": [
    "In Seaborn, categorical plots are primarily divided into three groups based on what they show about the data:"
   ]
  },
  {
   "cell_type": "markdown",
   "id": "0b1749af",
   "metadata": {},
   "source": [
    "1. **Statistical estimation within categories**: Plots like bar plots that estimate a statistic (like mean) within each category.\n",
    "2. **Distribution of observations within categories**: Plots that show the observations themselves, which includes swarm plots and violin plots.\n",
    "3. **Comparing observations between categories**: Plots that facilitate comparison between categorical variables, such as point plots."
   ]
  },
  {
   "cell_type": "markdown",
   "id": "0a0fcc3c",
   "metadata": {},
   "source": [
    "## Creating a Simple Categorical Plot"
   ]
  },
  {
   "cell_type": "markdown",
   "id": "dac4f8ec",
   "metadata": {},
   "source": [
    "Consider a dataset where we have sales data across different stores and want to compare sales. A bar plot is often the first choice."
   ]
  },
  {
   "cell_type": "code",
   "execution_count": null,
   "id": "1ecde6ae",
   "metadata": {},
   "outputs": [],
   "source": [
    "import seaborn as sns\n",
    "import matplotlib.pyplot as plt\n",
    "\n",
    "# Assuming 'df' is a pandas DataFrame with 'store_type' and 'sales' columns.\n",
    "\n",
    "# Bar plot to show average sales by store type\n",
    "sns.barplot(x='store_type', y='sales', data=df)\n",
    "plt.title('Average Sales by Store Type')\n",
    "plt.show()"
   ]
  },
  {
   "cell_type": "markdown",
   "id": "1af40505",
   "metadata": {},
   "source": [
    "In this bar plot, each bar represents the average sales for a store type, and the error bars show the confidence interval around the mean estimate."
   ]
  },
  {
   "cell_type": "markdown",
   "id": "2e558be8",
   "metadata": {},
   "source": [
    "## Diving Deeper: Swarm Plots and Violin Plots"
   ]
  },
  {
   "cell_type": "markdown",
   "id": "f07aacb1",
   "metadata": {},
   "source": [
    "While bar plots show an aggregate measure, swarm and violin plots can show the distribution of all data points."
   ]
  },
  {
   "cell_type": "code",
   "execution_count": null,
   "id": "4790e324",
   "metadata": {},
   "outputs": [],
   "source": [
    "# Swarm plot to show the distribution of sales by store type\n",
    "sns.swarmplot(x='store_type', y='sales', data=df)\n",
    "plt.title('Sales Distribution by Store Type')\n",
    "plt.show()\n",
    "\n",
    "# Violin plot to show a richer summary of the distribution\n",
    "sns.violinplot(x='store_type', y='sales', data=df)\n",
    "plt.title('Sales Distribution by Store Type')\n",
    "plt.show()"
   ]
  },
  {
   "cell_type": "markdown",
   "id": "fdaa05e2",
   "metadata": {},
   "source": [
    "Swarm plots display all points to show the distribution of sales within each store type, avoiding overlap. Violin plots combine a box plot with a kernel density estimate (KDE), showing more information about the distribution of the data."
   ]
  },
  {
   "cell_type": "markdown",
   "id": "ab461826",
   "metadata": {},
   "source": [
    "## Comparing Categories: Point Plots"
   ]
  },
  {
   "cell_type": "markdown",
   "id": "f55d6d1d",
   "metadata": {},
   "source": [
    "Point plots are useful for highlighting differences between categories."
   ]
  },
  {
   "cell_type": "code",
   "execution_count": null,
   "id": "d5db2a93",
   "metadata": {},
   "outputs": [],
   "source": [
    "# Point plot to compare sales between store types\n",
    "sns.pointplot(x='store_type', y='sales', data=df)\n",
    "plt.title('Comparative Sales by Store Type')\n",
    "plt.show()"
   ]
  },
  {
   "cell_type": "markdown",
   "id": "fdc698e5",
   "metadata": {},
   "source": [
    "The point plot shows the estimate of central tendency (mean by default) for sales in different store types and connects the points, making it easy to compare how sales differ across store types."
   ]
  },
  {
   "cell_type": "markdown",
   "id": "00a50f51",
   "metadata": {},
   "source": [
    "## Customization and Additional Functionality"
   ]
  },
  {
   "cell_type": "markdown",
   "id": "5e81c8fd",
   "metadata": {},
   "source": [
    "Seaborn allows for significant customization of plots to highlight the patterns in the data more clearly."
   ]
  },
  {
   "cell_type": "code",
   "execution_count": null,
   "id": "9286bade",
   "metadata": {},
   "outputs": [],
   "source": [
    "# Customized bar plot with hue for subcategories\n",
    "sns.barplot(x='store_type', y='sales', hue='weekday', data=df)\n",
    "plt.title('Average Sales by Store Type and Weekday')\n",
    "plt.legend(title='Day of the Week')\n",
    "plt.show()"
   ]
  },
  {
   "cell_type": "markdown",
   "id": "e0cb1b0f",
   "metadata": {},
   "source": [
    "By adding a **'hue'** parameter, we can compare not just the average sales across different store types, but also across days of the week within each store type."
   ]
  },
  {
   "cell_type": "markdown",
   "id": "5c014631",
   "metadata": {},
   "source": [
    "## Conclusion"
   ]
  },
  {
   "cell_type": "markdown",
   "id": "fb588dde",
   "metadata": {},
   "source": [
    "Seaborn’s categorical plots provide a wealth of options for visualizing categorical data, each offering unique insights. From simple bar plots to more complex violin and swarm plots, these visualizations can bring to light the underlying patterns and distributions of categorical variables."
   ]
  }
 ],
 "metadata": {
  "kernelspec": {
   "display_name": "Python 3 (ipykernel)",
   "language": "python",
   "name": "python3"
  },
  "language_info": {
   "codemirror_mode": {
    "name": "ipython",
    "version": 3
   },
   "file_extension": ".py",
   "mimetype": "text/x-python",
   "name": "python",
   "nbconvert_exporter": "python",
   "pygments_lexer": "ipython3",
   "version": "3.9.13"
  }
 },
 "nbformat": 4,
 "nbformat_minor": 5
}
