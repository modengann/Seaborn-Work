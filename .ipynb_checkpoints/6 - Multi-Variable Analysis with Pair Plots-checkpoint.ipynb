{
 "cells": [
  {
   "cell_type": "markdown",
   "id": "c444f492",
   "metadata": {},
   "source": [
    "# Multi-Variable Analysis with Pair Plots in Seaborn"
   ]
  },
  {
   "cell_type": "markdown",
   "id": "78628e0f",
   "metadata": {},
   "source": [
    "Analyzing relationships between pairs of variables in a dataset is a common task in data analysis. When dealing with multiple variables, visual inspection of every combination can become cumbersome. Seaborn’s **'pairplot'** function simplifies this process by visualizing pairwise relationships in a dataset.\n",
    "\n"
   ]
  },
  {
   "cell_type": "markdown",
   "id": "799b87fa",
   "metadata": {},
   "source": [
    "## Understanding Pair Plots in Seaborn"
   ]
  },
  {
   "cell_type": "markdown",
   "id": "f464fec1",
   "metadata": {},
   "source": [
    "A pair plot creates a grid of Axes such that each variable in the data will be shared in the y-axis across a single row and in the x-axis across a single column. The diagonal Axes are treated differently, drawing a plot to show the univariate distribution of the data for the variable in that column."
   ]
  },
  {
   "cell_type": "markdown",
   "id": "dfa5e06a",
   "metadata": {},
   "source": [
    "## Creating a Simple Pair Plot"
   ]
  },
  {
   "cell_type": "markdown",
   "id": "ebda4405",
   "metadata": {},
   "source": [
    "Let's consider a dataset **'df'** that includes various quantitative variables, such as **'['age', 'salary', 'years_at_company', 'satisfaction']'**."
   ]
  },
  {
   "cell_type": "code",
   "execution_count": null,
   "id": "497e5e66",
   "metadata": {},
   "outputs": [],
   "source": [
    "import seaborn as sns\n",
    "import matplotlib.pyplot as plt\n",
    "\n",
    "# Assuming 'df' is a pandas DataFrame with the mentioned variables.\n",
    "\n",
    "# Creating a simple pair plot\n",
    "sns.pairplot(df)\n",
    "plt.suptitle('Pairwise Relationships Among Features')\n",
    "plt.show()"
   ]
  },
  {
   "cell_type": "markdown",
   "id": "8e85ad4c",
   "metadata": {},
   "source": [
    "In the resulting grid, each feature is paired with every other feature. Scatter plots are created for each pair of features (except with itself), and the distribution of each individual feature is shown on the diagonal."
   ]
  },
  {
   "cell_type": "markdown",
   "id": "7b6809ac",
   "metadata": {},
   "source": [
    "## Customizing Pair Plots"
   ]
  },
  {
   "cell_type": "markdown",
   "id": "b3db1284",
   "metadata": {},
   "source": [
    "The **'pairplot'** function is highly customizable. You can color points by a categorical variable, use different kinds of plots for the diagonal and the off-diagonal elements, and more."
   ]
  },
  {
   "cell_type": "code",
   "execution_count": null,
   "id": "fb707d5b",
   "metadata": {},
   "outputs": [],
   "source": [
    "# Customized pair plot with hue based on a categorical variable 'department'\n",
    "sns.pairplot(df, hue='department', diag_kind='kde', markers=[\"o\", \"s\", \"D\"])\n",
    "plt.show()"
   ]
  },
  {
   "cell_type": "markdown",
   "id": "570a535b",
   "metadata": {},
   "source": [
    "Here, the **'hue'** parameter is used to color points by the 'department' category, allowing us to see how data clusters by department. The **'diag_kind'** is set to 'kde' to plot kernel density estimate plots on the diagonal. Different marker types ('o', 's', 'D') are used for different departments."
   ]
  },
  {
   "cell_type": "markdown",
   "id": "3c0e4f59",
   "metadata": {},
   "source": [
    "## Using Pair Plots with Specific Variables and Custom Functions"
   ]
  },
  {
   "cell_type": "markdown",
   "id": "1d9dd9da",
   "metadata": {},
   "source": [
    "Suppose we only want to analyze certain pairs of variables or use a custom function to plot the relationships."
   ]
  },
  {
   "cell_type": "code",
   "execution_count": null,
   "id": "c7070a86",
   "metadata": {},
   "outputs": [],
   "source": [
    "# Creating a pair plot for selected variables\n",
    "sns.pairplot(df, vars=['age', 'salary', 'satisfaction'], kind='reg')\n",
    "plt.show()\n",
    "\n",
    "# Custom function for plotting\n",
    "import numpy as np\n",
    "\n",
    "def corrfunc(x, y, **kws):\n",
    "    r, _ = np.corrcoef(x, y)\n",
    "    ax = plt.gca()\n",
    "    ax.annotate(f\"r = {r[0][1]:.2f}\", xy=(.1, .9), xycoords=ax.transAxes)\n",
    "\n",
    "# Pair plot with a custom function to show correlation coefficient\n",
    "sns.pairplot(df, vars=['age', 'salary', 'satisfaction']).map_upper(corrfunc)\n",
    "plt.show()"
   ]
  },
  {
   "cell_type": "markdown",
   "id": "0499a869",
   "metadata": {},
   "source": [
    "In the first customized example, only selected variables are plotted, with linear regression lines (**'kind='reg''**) added to each scatterplot. In the second example, we add a custom function **'corrfunc'** to annotate the correlation coefficient on the upper triangle of the pair plot."
   ]
  },
  {
   "cell_type": "markdown",
   "id": "ca7cc007",
   "metadata": {},
   "source": [
    "## Conclusion"
   ]
  },
  {
   "cell_type": "markdown",
   "id": "a113717e",
   "metadata": {},
   "source": [
    "Seaborn’s **'pairplot'** is a powerful tool for quickly visualizing relationships between multiple variables. It’s particularly useful in the exploratory phase of data analysis, offering a bird’s-eye view of the connections and correlations across a dataset."
   ]
  }
 ],
 "metadata": {
  "kernelspec": {
   "display_name": "Python 3 (ipykernel)",
   "language": "python",
   "name": "python3"
  },
  "language_info": {
   "codemirror_mode": {
    "name": "ipython",
    "version": 3
   },
   "file_extension": ".py",
   "mimetype": "text/x-python",
   "name": "python",
   "nbconvert_exporter": "python",
   "pygments_lexer": "ipython3",
   "version": "3.9.13"
  }
 },
 "nbformat": 4,
 "nbformat_minor": 5
}
