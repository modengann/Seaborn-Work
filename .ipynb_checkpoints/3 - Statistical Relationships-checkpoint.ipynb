{
 "cells": [
  {
   "cell_type": "markdown",
   "id": "2a643849",
   "metadata": {},
   "source": [
    "# Statistical Relationships with Seaborn"
   ]
  },
  {
   "cell_type": "markdown",
   "id": "26b554a5",
   "metadata": {},
   "source": [
    "When analyzing data, understanding the relationships between variables is vital. Seaborn provides functionalities that make investigating these relationships intuitive and efficient, especially when dealing with pandas DataFrames. Here, we'll explore how to visualize statistical relationships with Seaborn."
   ]
  },
  {
   "cell_type": "markdown",
   "id": "1393afd7",
   "metadata": {},
   "source": [
    "## Scatter Plot with Regression Line"
   ]
  },
  {
   "cell_type": "markdown",
   "id": "aaadd11a",
   "metadata": {},
   "source": [
    "Seaborn simplifies the addition of a regression line to a scatter plot using **'sns.regplot'**, which combines scatter plot with the fitting of a regression model."
   ]
  },
  {
   "cell_type": "code",
   "execution_count": null,
   "id": "373d1829",
   "metadata": {},
   "outputs": [],
   "source": [
    "import seaborn as sns\n",
    "import matplotlib.pyplot as plt\n",
    "\n",
    "# Assuming 'df' is a pandas DataFrame with 'feature' and 'target' columns\n",
    "# that you want to analyze.\n",
    "\n",
    "# Scatter plot with regression line\n",
    "sns.regplot(x='feature', y='target', data=df)\n",
    "plt.title('Regression Plot of Feature vs Target')\n",
    "plt.xlabel('Feature')\n",
    "plt.ylabel('Target')\n",
    "plt.show()"
   ]
  },
  {
   "cell_type": "markdown",
   "id": "29fed972",
   "metadata": {},
   "source": [
    "This plot not only shows the scatter points but also a linear regression fit across them, providing a visual indication of the relationship."
   ]
  },
  {
   "cell_type": "markdown",
   "id": "dc146787",
   "metadata": {},
   "source": [
    "## Pair Plot"
   ]
  },
  {
   "cell_type": "markdown",
   "id": "4abd0853",
   "metadata": {},
   "source": [
    "For a broader overview when dealing with multi-dimensional data, **'sns.pairplot'** is extremely useful. It creates a matrix of axes and shows the relationship for each pair of columns in a DataFrame. It can also display a univariate distribution on the diagonal."
   ]
  },
  {
   "cell_type": "code",
   "execution_count": null,
   "id": "a27e433e",
   "metadata": {},
   "outputs": [],
   "source": [
    "# Pair Plot\n",
    "sns.pairplot(df)\n",
    "plt.show()"
   ]
  },
  {
   "cell_type": "markdown",
   "id": "9d809991",
   "metadata": {},
   "source": [
    "For a dataset with many features, a pair plot can be very dense. You might want to focus on specific variables by using the **'vars'** parameter to select a subset of columns."
   ]
  },
  {
   "cell_type": "markdown",
   "id": "731568b5",
   "metadata": {},
   "source": [
    "## Heatmap for Correlation"
   ]
  },
  {
   "cell_type": "markdown",
   "id": "7a37ab59",
   "metadata": {},
   "source": [
    "A heatmap can be used to visualize the correlation matrix of data. It is an excellent way to identify which variables are most related to each other."
   ]
  },
  {
   "cell_type": "code",
   "execution_count": null,
   "id": "4d7533c9",
   "metadata": {},
   "outputs": [],
   "source": [
    "# Correlation matrix\n",
    "corr = df.corr()\n",
    "\n",
    "# Heatmap\n",
    "sns.heatmap(corr, annot=True, fmt=\".2f\")\n",
    "plt.title('Heatmap of Correlation Matrix')\n",
    "plt.show()"
   ]
  },
  {
   "cell_type": "markdown",
   "id": "0beeca58",
   "metadata": {},
   "source": [
    "The **'corr'** method of the DataFrame computes pairwise correlations of columns. The **'annot=True'** argument in **'sns.heatmap'** adds the numerical values inside the squares of the heatmap, and **'fmt=\".2f\"'** formats these numbers to two decimal places."
   ]
  },
  {
   "cell_type": "markdown",
   "id": "d7269e92",
   "metadata": {},
   "source": [
    "## Joint Plot"
   ]
  },
  {
   "cell_type": "markdown",
   "id": "67a0b4f5",
   "metadata": {},
   "source": [
    "**'sns.jointplot'** can be used to display a relationship between two variables along with their individual distributions, combining scatter plots or hexbin plots with histogram or KDE."
   ]
  },
  {
   "cell_type": "code",
   "execution_count": null,
   "id": "f26ee44d",
   "metadata": {},
   "outputs": [],
   "source": [
    "# Joint Plot\n",
    "sns.jointplot(x='feature', y='target', data=df, kind='scatter')\n",
    "plt.suptitle('Joint Plot of Feature and Target')\n",
    "plt.show()\n"
   ]
  },
  {
   "cell_type": "markdown",
   "id": "c3103c0e",
   "metadata": {},
   "source": [
    "By changing the **'kind'** parameter, you can switch between different types of visualizations for the main relationship plot, such as **'kind='kde''** for a KDE plot or **'kind='hex''** for a hexbin plot."
   ]
  },
  {
   "cell_type": "markdown",
   "id": "d5e08353",
   "metadata": {},
   "source": [
    "## Conclusion"
   ]
  },
  {
   "cell_type": "markdown",
   "id": "1fe21277",
   "metadata": {},
   "source": [
    "Visualizing statistical relationships effectively is a cornerstone of exploratory data analysis. Seaborn provides multiple functions to create informative visualizations that bring out the patterns in data. The regplot, pairplot, heatmap, and jointplot functions offer flexible and powerful ways to analyze pairwise relationships and correlations between variables."
   ]
  }
 ],
 "metadata": {
  "kernelspec": {
   "display_name": "Python 3 (ipykernel)",
   "language": "python",
   "name": "python3"
  },
  "language_info": {
   "codemirror_mode": {
    "name": "ipython",
    "version": 3
   },
   "file_extension": ".py",
   "mimetype": "text/x-python",
   "name": "python",
   "nbconvert_exporter": "python",
   "pygments_lexer": "ipython3",
   "version": "3.9.13"
  }
 },
 "nbformat": 4,
 "nbformat_minor": 5
}
