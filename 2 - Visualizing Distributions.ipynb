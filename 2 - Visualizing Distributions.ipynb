{
 "cells": [
  {
   "cell_type": "markdown",
   "id": "e21f4aac",
   "metadata": {},
   "source": [
    "# Visualizing Distributions with Seaborn"
   ]
  },
  {
   "cell_type": "markdown",
   "id": "2a272630",
   "metadata": {},
   "source": [
    "One of the primary steps in data analysis is understanding the distribution of data. Seaborn simplifies this process by providing built-in functions to create informative statistical graphics. Visualizing distributions can help identify patterns, outliers, and the underlying distribution of the dataset.\n",
    "\n"
   ]
  },
  {
   "cell_type": "markdown",
   "id": "7439daaa",
   "metadata": {},
   "source": [
    "## Histogram"
   ]
  },
  {
   "cell_type": "markdown",
   "id": "187d633d",
   "metadata": {},
   "source": [
    "A histogram represents the distribution of a dataset by forming bins along the range of the data and then drawing bars to show the number of observations that fall within each bin.\n",
    "\n",
    "In Seaborn, **'sns.histplot'** is used to create histograms:"
   ]
  },
  {
   "cell_type": "code",
   "execution_count": null,
   "id": "2b3db5e6",
   "metadata": {},
   "outputs": [],
   "source": [
    "import seaborn as sns\n",
    "import matplotlib.pyplot as plt\n",
    "\n",
    "# Assuming 'df' is a pandas DataFrame with the 'value' column\n",
    "# that you want to explore.\n",
    "\n",
    "# Histogram\n",
    "sns.histplot(df['value'], kde=False, bins=10)\n",
    "plt.title('Histogram of Values')\n",
    "plt.xlabel('Value')\n",
    "plt.ylabel('Frequency')\n",
    "plt.show()"
   ]
  },
  {
   "cell_type": "markdown",
   "id": "a20dbdc1",
   "metadata": {},
   "source": [
    "Here, **'kde=False'** disables the Kernel Density Estimate (KDE) plot overlay. If you set **'kde=True'**, Seaborn will add a line to the histogram that represents the probability density function of the distribution."
   ]
  },
  {
   "cell_type": "markdown",
   "id": "2f6883eb",
   "metadata": {},
   "source": [
    "## Kernel Density Estimate (KDE) Plot"
   ]
  },
  {
   "cell_type": "markdown",
   "id": "3567e42f",
   "metadata": {},
   "source": [
    "A KDE plot is a method for visualizing the distribution of observations in a dataset, analogous to a histogram. KDE represents the data using a continuous probability density curve in one or more dimensions."
   ]
  },
  {
   "cell_type": "code",
   "execution_count": null,
   "id": "2d36b697",
   "metadata": {},
   "outputs": [],
   "source": [
    "# KDE Plot\n",
    "sns.kdeplot(df['value'], shade=True)\n",
    "plt.title('Kernel Density Estimate of Values')\n",
    "plt.xlabel('Value')\n",
    "plt.ylabel('Density')\n",
    "plt.show()"
   ]
  },
  {
   "cell_type": "markdown",
   "id": "03ed685d",
   "metadata": {},
   "source": [
    "The **'shade=True'** argument fills the area under the KDE curve. This is a powerful way to visualize the distribution's shape."
   ]
  },
  {
   "cell_type": "markdown",
   "id": "d927fb8e",
   "metadata": {},
   "source": [
    "## Boxplot"
   ]
  },
  {
   "cell_type": "markdown",
   "id": "4ffbae2a",
   "metadata": {},
   "source": [
    "Boxplots (box-and-whisker plots) are a standardized way of displaying the distribution of data based on a five-number summary: minimum, first quartile (Q1), median, third quartile (Q3), and maximum."
   ]
  },
  {
   "cell_type": "code",
   "execution_count": null,
   "id": "bdaf02bc",
   "metadata": {},
   "outputs": [],
   "source": [
    "# Boxplot\n",
    "sns.boxplot(x=df['value'])\n",
    "plt.title('Boxplot of Values')\n",
    "plt.xlabel('Value')\n",
    "plt.show()"
   ]
  },
  {
   "cell_type": "markdown",
   "id": "03792725",
   "metadata": {},
   "source": [
    "Boxplots are particularly useful for indicating whether a distribution is skewed and whether there are potential unusual observations (outliers) in the data set."
   ]
  },
  {
   "cell_type": "markdown",
   "id": "ffe216e3",
   "metadata": {},
   "source": [
    "## Violin Plot"
   ]
  },
  {
   "cell_type": "markdown",
   "id": "354695af",
   "metadata": {},
   "source": [
    "Violin plots are similar to boxplots, but they also include a KDE. This feature provides a deeper understanding of the density at different values."
   ]
  },
  {
   "cell_type": "code",
   "execution_count": null,
   "id": "d6403758",
   "metadata": {},
   "outputs": [],
   "source": [
    "# Violin Plot\n",
    "sns.violinplot(x=df['value'])\n",
    "plt.title('Violin Plot of Values')\n",
    "plt.xlabel('Value')\n",
    "plt.show()"
   ]
  },
  {
   "cell_type": "markdown",
   "id": "2ce92e21",
   "metadata": {},
   "source": [
    "The violin plot provides a visual summary of the data, showing the distribution's density and the interquartile range."
   ]
  },
  {
   "cell_type": "markdown",
   "id": "00a99970",
   "metadata": {},
   "source": [
    "## Conclusion"
   ]
  },
  {
   "cell_type": "markdown",
   "id": "778915c3",
   "metadata": {},
   "source": [
    "Visualizing the distribution of data is crucial in any data analysis. Seaborn's distribution plots not only simplify the task of plotting these distributions but also make it more insightful and visually appealing. By combining these different types of plots, analysts can get a full picture of the data's distribution, helping to guide further analysis."
   ]
  }
 ],
 "metadata": {
  "kernelspec": {
   "display_name": "Python 3 (ipykernel)",
   "language": "python",
   "name": "python3"
  },
  "language_info": {
   "codemirror_mode": {
    "name": "ipython",
    "version": 3
   },
   "file_extension": ".py",
   "mimetype": "text/x-python",
   "name": "python",
   "nbconvert_exporter": "python",
   "pygments_lexer": "ipython3",
   "version": "3.9.13"
  }
 },
 "nbformat": 4,
 "nbformat_minor": 5
}
